{
 "cells": [
  {
   "cell_type": "code",
   "execution_count": 1,
   "metadata": {},
   "outputs": [],
   "source": [
    "%load_ext line_profiler"
   ]
  },
  {
   "cell_type": "code",
   "execution_count": 2,
   "metadata": {},
   "outputs": [],
   "source": [
    "import random\n",
    "import numpy as np\n",
    "import matplotlib.pyplot as plt\n",
    "from mesa import Agent, Model\n",
    "from mesa.time import RandomActivation\n",
    "from enum import Enum\n",
    "from tqdm import * #progress bar\n",
    "from heapq import heappush, heappop\n",
    "machine_precision = 1.0e-14 #todo: create function for abs() instead of copypaste, or do in class with member fun or overload..."
   ]
  },
  {
   "cell_type": "code",
   "execution_count": 3,
   "metadata": {},
   "outputs": [],
   "source": [
    "global_price = [0.0649]\n",
    "\n",
    "epsilon = 1.4e-4 #fiat price per Wh\n",
    "def R(t): #hash rate which can be bought for 1$\n",
    "    return 42.\n",
    "def P(t): #power consumption\n",
    "    return 42. \n",
    "def B(t): # number of btc to be mined per day\n",
    "    if t < 853: #todo properly\n",
    "        return 72.\n",
    "    else:\n",
    "        return 36.\n",
    "def p(t): #current price\n",
    "    try:\n",
    "        price = global_price[t]\n",
    "    except:\n",
    "        price = p(t-1)\n",
    "    return price\n",
    "        "
   ]
  },
  {
   "cell_type": "code",
   "execution_count": 4,
   "metadata": {},
   "outputs": [],
   "source": [
    "def rtot(t): #hashing capability of whole population of miners at time t\n",
    "    return sum(miner_.r(t) for miner_ in miners)"
   ]
  },
  {
   "cell_type": "code",
   "execution_count": 5,
   "metadata": {},
   "outputs": [],
   "source": [
    "class Order:\n",
    "    class Kind(Enum):\n",
    "        BUY = 1\n",
    "        SELL = 2\n",
    "    def __init__(self, kind, amount, limit_price, time,  t_expiration, agent):\n",
    "        self.agent = agent\n",
    "        self.kind = kind\n",
    "        self.amount = amount #sell: in btc ,  buy: in $\n",
    "        self.residual = amount #sell: in btc ,  buy: in $\n",
    "        self.t_expiration = t_expiration\n",
    "        self.time = time\n",
    "        self.limit_price=limit_price # $ per btc\n",
    "    def __repr__(self):\n",
    "        return \"BTC {} order of {} with residual {} and limit {}\".format(self.kind, self.amount, self.residual, self.limit_price)\n"
   ]
  },
  {
   "cell_type": "code",
   "execution_count": 6,
   "metadata": {},
   "outputs": [],
   "source": [
    "class Exchange: #TODO maybe move orderbook to its own class\n",
    "    def __init__(self):\n",
    "        #self.orderbook = dict(zip(list(Order.Kind), [list() for _ in range(len(Order.Kind))]))\n",
    "        ##is the same as\n",
    "        self.orderbook = {}\n",
    "        self.orderbook[Order.Kind.SELL] = []\n",
    "        self.orderbook[Order.Kind.BUY] = []\n",
    "        \n",
    "    def match(self, buy, sell): #todo: move to order class\n",
    "        return (sell.limit_price <= buy.limit_price) or (sell.limit_price==0.) or (buy.limit_price ==0.) \n",
    "                            # sj <= bi\n",
    "    def place(self, order):\n",
    "        #print(\"order placed: {}\".format(order))\n",
    "        self.orderbook[order.kind].append(order)\n",
    "        #self.clear()\n",
    "        \n",
    "    def clear(self): #process all available orders\n",
    "        #first sort orders\n",
    "        self.orderbook[Order.Kind.SELL].sort(key=lambda o: o.limit_price) #sort should be stable, so asc time conserved\n",
    "        self.orderbook[Order.Kind.BUY].sort(key=lambda o: o.limit_price, reverse=True)\n",
    "\n",
    "        #iterate through and match orders:      \n",
    "        matching = True\n",
    "        while matching and len(self.orderbook[Order.Kind.SELL]) and len(self.orderbook[Order.Kind.BUY]): #while there are orders\n",
    "            buy = self.orderbook[Order.Kind.BUY][0]\n",
    "            sell = self.orderbook[Order.Kind.SELL][0]\n",
    "            \n",
    "            if self.match(buy, sell): #see if they match\n",
    "                self.process(buy, sell)\n",
    "            else:\n",
    "                matching = False #no more matching orders\n",
    "    \n",
    "    def process(self, buy, sell):\n",
    "        #print(buy)\n",
    "        #print(sell)\n",
    "        #determine price of transaction pT in $ per btc\n",
    "        if buy.limit_price > 0. and sell.limit_price == 0.:\n",
    "            pT = min(buy.limit_price, p(t))\n",
    "        elif sell.limit_price > 0. and buy.limit_price == 0.:\n",
    "            pT = max(sell.limit_price, p(t))\n",
    "        elif sell.limit_price == 0. and buy.limit_price == 0.:\n",
    "            pT = p(t)\n",
    "        else: # buy.limit_price > 0 and sell.limit_price > 0\n",
    "            pT = 0.5 * (buy.limit_price + sell.limit_price)\n",
    "            \n",
    "        #determine amount of transaction\n",
    "        amount = min(sell.residual, buy.residual/pT) # amount that is actually traded\n",
    "        #assert amount > 0. \n",
    "        #exchange currency\n",
    "    \n",
    "        #assert (sell.agent.bitcoin_orders - amount) >= -machine_precision\n",
    "        #assert (buy.agent.bitcoin_available + amount) >= -machine_precision\n",
    "        #assert (sell.agent.cash_available + amount * pT) >= -machine_precision)\n",
    "        #assert (buy.agent.cash_orders - amount * pT) >= -machine_precision\n",
    "        \n",
    "        sell.agent.bitcoin_orders -= amount\n",
    "        if abs (sell.agent.bitcoin_orders) < machine_precision:\n",
    "            sell.agent.bitcoin_orders = 0.\n",
    "        buy.agent.bitcoin_available += amount\n",
    "        sell.agent.cash_available += amount * pT\n",
    "        buy.agent.cash_orders -= amount * pT   \n",
    "        if abs (buy.agent.cash_orders) < machine_precision:\n",
    "            buy.agent.cash_orders = 0.\n",
    "            \n",
    "        #update price:\n",
    "        try:\n",
    "            global_price[t] = pT\n",
    "        except:\n",
    "            global_price.append(pT)\n",
    "\n",
    "        if (sell.residual < buy.residual / pT): #avoid testing for ==0. with float\n",
    "            toremove = sell\n",
    "        else:\n",
    "            toremove = buy\n",
    "        buy.residual -= amount * pT\n",
    "        sell.residual -= amount\n",
    "        self.remove_order(toremove)\n",
    "            \n",
    "    def remove_order(self, order):\n",
    "        if order.kind == Order.Kind.SELL: #sell bitcoin\n",
    "            order.agent.bitcoin_available += order.residual\n",
    "            order.agent.bitcoin_orders -= order.residual   \n",
    "            if abs(order.agent.bitcoin_orders) < machine_precision:\n",
    "                order.agent.bitcoin_orders = 0.\n",
    "        else: #buy bitcoin\n",
    "            order.agent.cash_available += order.residual\n",
    "            order.agent.cash_orders -= order.residual\n",
    "            if abs(order.agent.cash_orders) < machine_precision:\n",
    "                order.agent.cash_orders = 0.\n",
    "        self.orderbook[order.kind].remove(order)\n",
    "        #print(\"order removed: {}\".format(order))\n",
    "            \n",
    "    def remove_old_orders(self):\n",
    "        for kind in list(Order.Kind):\n",
    "            book = self.orderbook[kind]\n",
    "            for order in book: #todo do this in one nice line :D\n",
    "                if  t - order.time > order.t_expiration:\n",
    "                    self.remove_order(order)\n",
    "                \n"
   ]
  },
  {
   "cell_type": "code",
   "execution_count": 7,
   "metadata": {},
   "outputs": [],
   "source": [
    "coinbase = Exchange() "
   ]
  },
  {
   "cell_type": "code",
   "execution_count": 8,
   "metadata": {},
   "outputs": [],
   "source": [
    "class CryptoCurrencyAgent(Agent):\n",
    "    \"\"\"An agent\"\"\"\n",
    "    def __init__(self, unique_id, model):\n",
    "        super().__init__(unique_id, model)\n",
    "        self.cash_available = 5. #fiat cash\n",
    "        self.bitcoin_available = 10. #cryptocurrency\n",
    "        self.cash_orders = 0. #fiat cash\n",
    "        self.bitcoin_orders = 0. #cryptocurrency\n",
    "        self.te = 0. #entry time\n",
    "        self.bitcoin_in_sell_orders = 0.\n",
    "        self.cash_in_buy_orders = 0.\n",
    "\n",
    "        self.exchange = coinbase\n",
    "    \n",
    "    @property\n",
    "    def cash_total(self):\n",
    "        return self.cash_available + self.cash_orders\n",
    "    @property\n",
    "    def bitcoin_total(self):\n",
    "        return self.bitcoin_available + self.bitcoin_orders\n",
    "    #@property \n",
    "    #def cb(self): #$ not in buy orders, todo do this in a more efficient way\n",
    "    #    return sum(order.amount for order in self.exchange.orderbook[Order.Kind.SELL] if order.agent==self ) \n",
    "    #@property    \n",
    "    #def bs(self): #btc not in buy orders\n",
    "    #    return sum(order.amount for order in self.exchange.orderbook[Order.Kind.BUY] if order.agent==self) #TODO dont copypaste\n",
    "\n",
    "    def placeorder(self, order):\n",
    "        if order.kind == Order.Kind.SELL: #sell bitcoin\n",
    "            self.bitcoin_orders += order.amount\n",
    "            self.bitcoin_available -= order.amount\n",
    "            if abs (self.bitcoin_available) < machine_precision:\n",
    "                self.bitcoin_available = 0.\n",
    "            #print(self.bitcoin_orders)\n",
    "            #assert self.bitcoin_available >= 0.\n",
    "            \n",
    "        else: #buy bitcoin\n",
    "            self.cash_orders += order.amount\n",
    "            self.cash_available -= order.amount\n",
    "            if abs (self.cash_available) < machine_precision:\n",
    "                self.cash_available = 0.\n",
    "            #print(self.cash_orders)\n",
    "            #assert self.cash_available >= 0.\n",
    "\n",
    "        self.exchange.place(order)"
   ]
  },
  {
   "cell_type": "code",
   "execution_count": 9,
   "metadata": {},
   "outputs": [],
   "source": [
    "class Miner(CryptoCurrencyAgent):\n",
    "    \"\"\"A Miner\"\"\"\n",
    "    def __init__(self, unique_id, model):\n",
    "        super().__init__(unique_id, model)\n",
    "        self.gamma1_ = [0.5] #percentage of cash allocated to buy\n",
    "        if t==0:\n",
    "            self.tID = random.choice(range(61)) #take decision to buy in the first 60 days uniform distr, todo use np\n",
    "        else:\n",
    "            self.update_tID() #time when to buy new mining hardware\n",
    "    \n",
    "    def update_tID(self):\n",
    "        mu, sigma = 0, 6.\n",
    "        self.tID = t + round(60 + np.random.normal(mu, sigma))\n",
    "    def gamma(self,t):\n",
    "        return 0.5 * self.gamma1(t)\n",
    "    def gamma1(self,t):\n",
    "        return self.gamma1_[t-te]\n",
    "    \n",
    "    def ru(self, t): #hardware capability of units bought\n",
    "        if t==te:\n",
    "            return gamma1(t) * c(t) * R(t)\n",
    "        else:\n",
    "            return ( gamma1(t) * c(t) + gamma(t) * b(t)*p(t) )*R(t)\n",
    "    def r(self, t): #hashing capability\n",
    "        return sum( self.ru(s) for s in range(self.te, t) )\n",
    "    def e(self, t): #total elextricity cost\n",
    "        return sum( epsilon * P(s) * self.r(s) * 24 for s in range(self.te, t) )\n",
    "\n",
    "    def b_mined(self, t): #amount mined at day t\n",
    "        return self.r(t)/rtot(t) * B(t)\n",
    "    \n",
    "    def buy_hardware(self):\n",
    "        #todo\n",
    "        #buy hardware\n",
    "        #divest hardware older than one year\n",
    "        None\n",
    "    def step(self):\n",
    "        if t==self.tID:\n",
    "            self.buy_hardware()\n",
    "            #todo\n",
    "            #set next time when to buy\n",
    "            self.update_tID()\n",
    "        self.bitcoin_available += self.b_mined(t)\n",
    "        None"
   ]
  },
  {
   "cell_type": "code",
   "execution_count": 10,
   "metadata": {},
   "outputs": [],
   "source": [
    "\n",
    "class Chartist(CryptoCurrencyAgent):\n",
    "    \"\"\"A Miner\"\"\"\n",
    "    def __init__(self, unique_id, model):\n",
    "        super().__init__(unique_id, model)\n",
    "        "
   ]
  },
  {
   "cell_type": "code",
   "execution_count": 11,
   "metadata": {},
   "outputs": [],
   "source": [
    "class Trader(CryptoCurrencyAgent):\n",
    "    \"\"\"A Miner\"\"\"\n",
    "    def __init__(self, unique_id, model):\n",
    "        super().__init__(unique_id, model)\n",
    "        self.tradeprobability = 0.2 #todo\n",
    "    def step(self):\n",
    "        if (random.random() < self.tradeprobability):\n",
    "            beta = min(1., np.random.lognormal(mean=0.25, sigma=0.2))\n",
    "            mu, sigma = 1, 0.05 # TODO correct values\n",
    "            N = np.random.normal(mu, sigma)\n",
    "            kind = random.choice(list(Order.Kind))\n",
    "            order_is_valid = True\n",
    "            if kind == Order.Kind.BUY:\n",
    "                amount = self.cash_available * beta #ba\n",
    "                order_is_valid =  (amount > 0.)\n",
    "                limit = p(t) * N\n",
    "            else: #SELL\n",
    "                amount = self.bitcoin_available * beta #sa\n",
    "                order_is_valid =  (amount > 0.)\n",
    "                limit = p(t) / N\n",
    "            \n",
    "            expiration_time = round(np.random.lognormal(mean=3, sigma=1))\n",
    "            #todo\n",
    "            if not expiration_time > 0:\n",
    "                order_is_valid = False\n",
    "            #assert limit >= usdp0. #wqit\n",
    "            #kind, amount, limit_price, time,  t_expiration, agent\n",
    "            if order_is_valid:\n",
    "                self.placeorder(Order(kind , amount, limit, t, expiration_time, self) )\n",
    "\n"
   ]
  },
  {
   "cell_type": "code",
   "execution_count": 12,
   "metadata": {},
   "outputs": [],
   "source": [
    "class CryptoCurrencyModel(Model):\n",
    "    \"\"\"A model with some number of agents.\"\"\"\n",
    "    def __init__(self, N):\n",
    "        self.num_agents = N\n",
    "        self.schedule = RandomActivation(self)\n",
    "        # Create agents\n",
    "        #for i in range(self.num_agents):\n",
    "        #    a = Miner(i, self)\n",
    "        #    self.schedule.add(a)\n",
    "        for i in range(self.num_agents):\n",
    "            a = Trader(i, self)\n",
    "            self.schedule.add(a)\n",
    "    def step(self):\n",
    "        '''Advance the model by one step.'''\n",
    "        self.schedule.step()"
   ]
  },
  {
   "cell_type": "code",
   "execution_count": 13,
   "metadata": {},
   "outputs": [],
   "source": [
    "model = CryptoCurrencyModel(5000)\n",
    "t=0"
   ]
  },
  {
   "cell_type": "code",
   "execution_count": 14,
   "metadata": {},
   "outputs": [
    {
     "name": "stderr",
     "output_type": "stream",
     "text": [
      "100%|██████████| 10000/10000 [04:55<00:00, 33.87it/s]\n"
     ]
    }
   ],
   "source": [
    "nsteps = 10000\n",
    "for i in tqdm(range(nsteps)):\n",
    "    #print(t)\n",
    "    t += 1 #todo use mesa time\n",
    "    coinbase.remove_old_orders() #todo move this into step\n",
    "    model.step()\n",
    "    coinbase.clear()"
   ]
  },
  {
   "cell_type": "code",
   "execution_count": 15,
   "metadata": {},
   "outputs": [
    {
     "name": "stdout",
     "output_type": "stream",
     "text": [
      " "
     ]
    }
   ],
   "source": [
    "t += 1 #todo use mesa time\n",
    "coinbase.remove_old_orders() #todo move this into step\n",
    "%prun model.step()"
   ]
  },
  {
   "cell_type": "code",
   "execution_count": null,
   "metadata": {},
   "outputs": [],
   "source": []
  },
  {
   "cell_type": "code",
   "execution_count": 16,
   "metadata": {},
   "outputs": [
    {
     "data": {
      "image/png": "[encoded data removed]",
      "text/plain": [
       "<matplotlib.figure.Figure at 0x111d49e10>"
      ]
     },
     "metadata": {},
     "output_type": "display_data"
    }
   ],
   "source": [
    "plt.plot(global_price)\n",
    "plt.show()"
   ]
  },
  {
   "cell_type": "code",
   "execution_count": 17,
   "metadata": {},
   "outputs": [
    {
     "data": {
      "image/png": "[encoded data removed]",
      "text/plain": [
       "<matplotlib.figure.Figure at 0x111eb5978>"
      ]
     },
     "metadata": {},
     "output_type": "display_data"
    },
    {
     "name": "stdout",
     "output_type": "stream",
     "text": [
      "min: 0.0\n",
      "max: 39.335468225899554\n"
     ]
    }
   ],
   "source": [
    "agent_btc = [float(a.bitcoin_total) for a in model.schedule.agents]\n",
    "plt.hist(agent_btc)\n",
    "plt.show()\n",
    "print(\"min: {}\".format(min(agent_btc)))\n",
    "print(\"max: {}\".format(max(agent_btc)))"
   ]
  },
  {
   "cell_type": "code",
   "execution_count": 18,
   "metadata": {},
   "outputs": [
    {
     "data": {
      "image/png": "[encoded data removed]",
      "text/plain": [
       "<matplotlib.figure.Figure at 0x112062160>"
      ]
     },
     "metadata": {},
     "output_type": "display_data"
    },
    {
     "name": "stdout",
     "output_type": "stream",
     "text": [
      "min: -8.881784197001252e-16\n",
      "max: 19.39197435464863\n"
     ]
    }
   ],
   "source": [
    "agent_cash = [float(a.cash_total) for a in model.schedule.agents]\n",
    "plt.hist(agent_cash)\n",
    "plt.show()\n",
    "print(\"min: {}\".format(min(agent_cash)))\n",
    "print(\"max: {}\".format(max(agent_cash)))"
   ]
  },
  {
   "cell_type": "code",
   "execution_count": null,
   "metadata": {},
   "outputs": [],
   "source": []
  },
  {
   "cell_type": "code",
   "execution_count": null,
   "metadata": {},
   "outputs": [],
   "source": []
  }
 ],
 "metadata": {
  "kernelspec": {
   "display_name": "Python 3",
   "language": "python",
   "name": "python3"
  },
  "language_info": {
   "codemirror_mode": {
    "name": "ipython",
    "version": 3
   },
   "file_extension": ".py",
   "mimetype": "text/x-python",
   "name": "python",
   "nbconvert_exporter": "python",
   "pygments_lexer": "ipython3",
   "version": "3.6.3"
  }
 },
 "nbformat": 4,
 "nbformat_minor": 2
}
