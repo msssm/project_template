{
 "cells": [
  {
   "cell_type": "code",
   "execution_count": 74,
   "metadata": {
    "collapsed": true
   },
   "outputs": [],
   "source": [
    "from mesa import Agent, Model\n",
    "from mesa.time import RandomActivation\n",
    "import random\n",
    "import numpy as np\n",
    "from enum import Enum"
   ]
  },
  {
   "cell_type": "code",
   "execution_count": 75,
   "metadata": {
    "collapsed": false
   },
   "outputs": [],
   "source": [
    "epsilon = 1.4e-4 #fiat price per Wh\n",
    "def R(t): #hash rate which can be bought for 1$\n",
    "    return 42. \n",
    "def P(t): #power consumption\n",
    "    return 42. \n",
    "def B(t): # number of btc to be mined per day\n",
    "    if t < 853: #todo properly\n",
    "        return 72.\n",
    "    else:\n",
    "        return 36.\n",
    "def p(t): #current price\n",
    "    if t == 0:\n",
    "        return 0.0649\n",
    "    else:\n",
    "        return 42. #todo find out how p(t) is determined"
   ]
  },
  {
   "cell_type": "code",
   "execution_count": 76,
   "metadata": {
    "collapsed": true
   },
   "outputs": [],
   "source": [
    "def rtot(t): #hashing capability of whole population of miners at time t\n",
    "    return sum(miner_.r(t) for miner_ in miners)"
   ]
  },
  {
   "cell_type": "code",
   "execution_count": 77,
   "metadata": {
    "collapsed": false
   },
   "outputs": [],
   "source": [
    "class Order:\n",
    "    class Kind(Enum):\n",
    "        BUY = 1\n",
    "        SELL = 2\n",
    "    def __init__(self, kind, amount, limit_price, time,  t_expiration, agent):\n",
    "        self.agent = agent\n",
    "        self.kind = kind\n",
    "        self.amount = amount #sell: in btc ,  buy: in $\n",
    "        self.residual = amount\n",
    "        self.t_expiration = t_expiration\n",
    "        self.time = time\n",
    "        self.limit_price=limit_price # $ per btc\n"
   ]
  },
  {
   "cell_type": "code",
   "execution_count": 78,
   "metadata": {
    "collapsed": false
   },
   "outputs": [],
   "source": [
    "class Exchange: #TODO maybe move orderbook to its own class\n",
    "    def __init__(self):\n",
    "        self.orderbook = dict(zip(list(Order.Kind), [list() for _ in range(len(Order.Kind))]))\n",
    "        # access as orderbook[Order.Kind.BUY],  orderbook[Order.Kind.SELL]\n",
    "    \n",
    "    def match(self, buy, sell): #todo: move to order class\n",
    "        return (sell.limit_price <= buy.limit_price) or (sell.limit_price==0) or (buy.limit_price ==0) \n",
    "                            # sj <= bi\n",
    "    def place(self, order):\n",
    "        self.orderbook[order.kind].append(order)\n",
    "        self.clear()\n",
    "        \n",
    "    def clear(self): #process all available orders\n",
    "        #first sort orders\n",
    "        self.orderbook[Order.Kind.SELL].sort(key=lambda o: o.limit_price) #sort should be stable, so asc time conserved\n",
    "        self.orderbook[Order.Kind.BUY].sort(key=lambda o: o.limit_price, reverse=True)\n",
    "\n",
    "        #iterate through and match orders:      \n",
    "        matching = True\n",
    "        while matching and len(self.orderbook[Order.Kind.SELL]) and len(self.orderbook[Order.Kind.BUY]): #while there are orders\n",
    "            buy = self.orderbook[Order.Kind.BUY][0]\n",
    "            sell = self.orderbook[Order.Kind.SELL][0]\n",
    "            \n",
    "            if self.match(buy, sell): #see if they match\n",
    "                self.process(buy, sell)\n",
    "            else:\n",
    "                matching = False #no more matching orders\n",
    "    \n",
    "    def process(self, buy, sell):\n",
    "        \n",
    "        #determine price of transaction pT in $ per btc\n",
    "        if buy.limit_price > 0. and sell.limit_price == 0.:\n",
    "            pT = min(buy.limit_price, p(t))\n",
    "        elif sell.limit_price > 0. and buy.limit_price == 0.:\n",
    "            pT = max(sell.limit_price, p(t))\n",
    "        elif sell.limit_price == 0. and buy.limit_price == 0.:\n",
    "            pT = p(t)\n",
    "        else: # buy.limit_price > 0 and sell.limit_price > 0\n",
    "            pT = 0.5 * (buy.limit_price + sell.limit_price)\n",
    "            \n",
    "        #determine amount of transaction\n",
    "        amount = min(sell.amount, buy.amount / pT) # in bitcoin\n",
    "        \n",
    "        #exchange currency\n",
    "        sell.agent.b -= amount\n",
    "        buy.agent.b += amount\n",
    "        sell.agent.c -= amount * pT\n",
    "        buy.agent.c += amount * pT    \n",
    "        \n",
    "        #set residual\n",
    "        sell.residual -= amount\n",
    "        buy.residual -= amount * pT\n",
    "        \n",
    "        #update price:\n",
    "        #todo \n",
    "        \n",
    "        #remove empty orders\n",
    "        if sell.residual <= 1e-14: # ==0 ?\n",
    "            self.orderbook[Order.Kind.SELL].remove(sell)\n",
    "        if buy.residual <= 1e-14: # ==0 ?\n",
    "            self.orderbook[Order.Kind.BUY].remove(buy)\n",
    "    \n",
    "    def remove_old_orders(self):\n",
    "        for kind in list(Order.Kind):\n",
    "            book = self.orderbook[kind]\n",
    "            for order in book: #todo do this in one nice line :D\n",
    "                if  t - order.time > order.t_expiration:\n",
    "                    book.remove(order)\n",
    "                \n"
   ]
  },
  {
   "cell_type": "code",
   "execution_count": 79,
   "metadata": {
    "collapsed": true
   },
   "outputs": [],
   "source": [
    "coinbase = Exchange()"
   ]
  },
  {
   "cell_type": "code",
   "execution_count": 80,
   "metadata": {
    "collapsed": true
   },
   "outputs": [],
   "source": [
    "class CryptoCurrencyAgent(Agent):\n",
    "    \"\"\"An agent\"\"\"\n",
    "    def __init__(self, unique_id, model):\n",
    "        super().__init__(unique_id, model)\n",
    "        self.c = 1000. #fiat cash\n",
    "        self.b = 1. #cryptocurrency\n",
    "        self.te = 0. #entry time\n",
    "        self.exchange = coinbase\n",
    "    \n",
    "    @property \n",
    "    def cb(self): #$ not in buy orders, todo do this in a more efficient way\n",
    "        return sum(order.amount for order in self.exchange.orderbook[Order.Kind.SELL] if order.agent==self ) \n",
    "    @property    \n",
    "    def bs(self): #btc not in buy orders\n",
    "        return sum(order.amount for order in self.exchange.orderbook[Order.Kind.BUY] if order.agent==self) #TODO dont copypaste\n",
    "\n",
    "    def placeorder(self, order):\n",
    "        self.exchange.place(order)"
   ]
  },
  {
   "cell_type": "code",
   "execution_count": 81,
   "metadata": {
    "collapsed": false
   },
   "outputs": [],
   "source": [
    "class Miner(CryptoCurrencyAgent):\n",
    "    \"\"\"A Miner\"\"\"\n",
    "    def __init__(self, unique_id, model):\n",
    "        super().__init__(unique_id, model)\n",
    "        self.gamma1_ = [0.5] #percentage of cash allocated to buy\n",
    "        if t==0:\n",
    "            self.tID = random.choice(range(61)) #take decision to buy in the first 60 days uniform distr, todo use np\n",
    "        else:\n",
    "            self.update_tID() #time when to buy new mining hardware\n",
    "    \n",
    "    def update_tID(self):\n",
    "        mu, sigma = 0, 6.\n",
    "        self.tID = t + round(60 + np.random.normal(mu, sigma))\n",
    "    def gamma(self,t):\n",
    "        return 0.5 * self.gamma1(t)\n",
    "    def gamma1(self,t):\n",
    "        return self.gamma1_[t-te]\n",
    "    \n",
    "    def ru(self, t): #hardware capability of units bought\n",
    "        if t==te:\n",
    "            return gamma1(t) * c(t) * R(t)\n",
    "        else:\n",
    "            return ( gamma1(t) * c(t) + gamma(t) * b(t)*p(t) )*R(t)\n",
    "    def r(self, t): #hashing capability\n",
    "        return sum( self.ru(s) for s in range(self.te, t) )\n",
    "    def e(self, t): #total elextricity cost\n",
    "        return sum( epsilon * P(s) * self.r(s) * 24 for s in range(self.te, t) )\n",
    "\n",
    "    def b(self, t):\n",
    "        return self.r(t)/rtot(t) * B(t)\n",
    "    \n",
    "    def buy_hardware(self):\n",
    "        #todo\n",
    "        #buy hardware\n",
    "        #divest hardware older than one year\n",
    "        None\n",
    "    def step(self):\n",
    "        if t==self.tID:\n",
    "            self.buy_hardware()\n",
    "            #todo\n",
    "            #set next time when to buy\n",
    "            self.update_tID()\n",
    "        #todo\n",
    "        None"
   ]
  },
  {
   "cell_type": "code",
   "execution_count": 82,
   "metadata": {
    "collapsed": true
   },
   "outputs": [],
   "source": [
    "\n",
    "class Chartist(CryptoCurrencyAgent):\n",
    "    \"\"\"A Miner\"\"\"\n",
    "    def __init__(self, unique_id, model):\n",
    "        super().__init__(unique_id, model)\n",
    "        "
   ]
  },
  {
   "cell_type": "code",
   "execution_count": 83,
   "metadata": {
    "collapsed": false
   },
   "outputs": [],
   "source": [
    "class Trader(CryptoCurrencyAgent):\n",
    "    \"\"\"A Miner\"\"\"\n",
    "    def __init__(self, unique_id, model):\n",
    "        super().__init__(unique_id, model)\n",
    "        self.tradeprobability = 0.5\n",
    "    def step(self):\n",
    "        if (random.random() < self.tradeprobability):\n",
    "            beta = np.random.lognormal(mean=0.25, sigma=0.2)\n",
    "            #mu, sigma = 1, 0.1 # TODO correct values\n",
    "            mu, sigma = 1, 0.5 # TODO correct values\n",
    "\n",
    "            N = np.random.normal(mu, sigma)\n",
    "            kind = random.choice(list(Order.Kind))\n",
    "            if kind == Order.Kind.SELL:\n",
    "                amount = self.cb * beta / p(t) #sa\n",
    "                limit = p(t) / N\n",
    "            else: #BUY\n",
    "                amount = self.bs * beta #ba\n",
    "                limit = p(t) * N\n",
    "                \n",
    "            #kind, amount, limit_price, time,  t_expiration, agent\n",
    "            self.placeorder(Order(kind ,amount, limit, t, 10, self) )  \n",
    "\n"
   ]
  },
  {
   "cell_type": "code",
   "execution_count": 84,
   "metadata": {
    "collapsed": true
   },
   "outputs": [],
   "source": [
    "class CryptoCurrencyModel(Model):\n",
    "    \"\"\"A model with some number of agents.\"\"\"\n",
    "    def __init__(self, N):\n",
    "        self.num_agents = N\n",
    "        self.schedule = RandomActivation(self)\n",
    "        # Create agents\n",
    "        #for i in range(self.num_agents):\n",
    "        #    a = Miner(i, self)\n",
    "        #    self.schedule.add(a)\n",
    "        for i in range(self.num_agents):\n",
    "            a = Trader(i, self)\n",
    "            self.schedule.add(a)\n",
    "    def step(self):\n",
    "        '''Advance the model by one step.'''\n",
    "        self.schedule.step()"
   ]
  },
  {
   "cell_type": "code",
   "execution_count": 85,
   "metadata": {
    "collapsed": false
   },
   "outputs": [],
   "source": [
    "model = CryptoCurrencyModel(100)"
   ]
  },
  {
   "cell_type": "code",
   "execution_count": 86,
   "metadata": {
    "collapsed": false
   },
   "outputs": [],
   "source": [
    "t=0\n",
    "for i in range(1000):\n",
    "    t += 1\n",
    "    coinbase.remove_old_orders() #todo move this into step\n",
    "    model.step()"
   ]
  },
  {
   "cell_type": "code",
   "execution_count": 87,
   "metadata": {
    "collapsed": false
   },
   "outputs": [
    {
     "data": {
      "image/png": "[encoded data removed]",
      "text/plain": [
       "<matplotlib.figure.Figure at 0x7f051f3b5160>"
      ]
     },
     "metadata": {},
     "output_type": "display_data"
    }
   ],
   "source": [
    "import matplotlib.pyplot as plt\n",
    "agent_btc = [a.b for a in model.schedule.agents]\n",
    "plt.hist(agent_btc)\n",
    "plt.show()"
   ]
  },
  {
   "cell_type": "code",
   "execution_count": null,
   "metadata": {
    "collapsed": true
   },
   "outputs": [],
   "source": []
  }
 ],
 "metadata": {
  "kernelspec": {
   "display_name": "Python 3",
   "language": "python",
   "name": "python3"
  },
  "language_info": {
   "codemirror_mode": {
    "name": "ipython",
    "version": 3
   },
   "file_extension": ".py",
   "mimetype": "text/x-python",
   "name": "python",
   "nbconvert_exporter": "python",
   "pygments_lexer": "ipython3",
   "version": "3.5.3"
  }
 },
 "nbformat": 4,
 "nbformat_minor": 2
}
