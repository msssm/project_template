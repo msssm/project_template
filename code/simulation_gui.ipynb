{
 "cells": [
  {
   "cell_type": "code",
   "execution_count": null,
   "metadata": {},
   "outputs": [],
   "source": [
    "import matplotlib.pyplot as plt\n",
    "from tqdm import * #progress bar\n",
    "from sccm import CryptoCurrencyModel, PaperModel\n",
    "from sccm.agents import *\n",
    "from sccm._parameters import Parameters\n",
    "from sccm.market import Order\n",
    "import numpy as np"
   ]
  },
  {
   "cell_type": "code",
   "execution_count": null,
   "metadata": {},
   "outputs": [],
   "source": [
    "# Run the model\n",
    "run_count = 1\n",
    "\n",
    "def run_model():\n",
    "    global run_count\n",
    "    print('\\n\\n\\nSimulation', run_count)\n",
    "    model = PaperModel()\n",
    "    model.parameters.scaling_factor = sf.get()\n",
    "    print('Scaling factor: ', model.parameters.scaling_factor)\n",
    "    for i in tqdm(range(365*5)):\n",
    "        model.step()\n",
    "    \n",
    "    gini = model.datacollector.get_model_vars_dataframe()\n",
    "\n",
    "    def plotdata(l, title='unnamed', lg=False):\n",
    "        gini[l].plot(logy=lg)\n",
    "        plt.legend(l)\n",
    "        plt.title(title+' (simulation '+str(run_count)+')')\n",
    "        plt.show()\n",
    "\n",
    "    plotdata('price', 'cryptocurrency price')\n",
    "    plotdata(['n_agents', 'n_miner', 'n_trader', 'n_chartist'], 'number of agents')\n",
    "    plotdata(['btc_miner', 'btc_trader', 'btc_chartist'], 'cryptocurrency owned by agents')\n",
    "    plotdata(['cash_miner', 'cash_trader', 'cash_chartist'], 'cash owned by agents')\n",
    "    plotdata(['n_orders_sell', 'n_orders_sellinf', 'n_orders_buy'], 'number of orders')\n",
    "    plotdata('energy_cons_avg', 'average energy consumption')\n",
    "    plotdata('hashing_cap_avg', 'average hashing capability')\n",
    "    plotdata('btc_mined_avg', 'average cryptocurrency mined')\n",
    "    plotdata('n_transactions', 'number of transactions')\n",
    "    plotdata('transaction_volume', 'transaction volumes')\n",
    "    plotdata('energy_cons_total', 'total energy consumption', lg=True)\n",
    "    plotdata('hashing_cap_total', 'total hashing capability', lg=True)\n",
    "    \n",
    "    run_count += 1"
   ]
  },
  {
   "cell_type": "code",
   "execution_count": null,
   "metadata": {
    "scrolled": false
   },
   "outputs": [],
   "source": [
    "import tkinter as tk\n",
    "\n",
    "# Main window\n",
    "root = tk.Tk()\n",
    "root.title('cryptocurrency market')\n",
    "root.resizable(False, False)\n",
    "\n",
    "# Frames\n",
    "frame_model = tk.Frame(root, borderwidth=10)\n",
    "frame_model.grid(column=0, row=0)\n",
    "frame_params = tk.Frame(root, borderwidth=10)\n",
    "frame_params.grid(column=0, row=1)\n",
    "frame_buttons = tk.Frame(root, borderwidth=10)\n",
    "frame_buttons.grid(column=0, row=2)\n",
    "\n",
    "# Select a model\n",
    "tk.Label(frame_model, text='Select a model : ').grid(column=0, row=0)\n",
    "model_var = tk.StringVar()\n",
    "model_var.set('PaperModel')\n",
    "model_select = tk.Radiobutton(frame_model, text='Paper Model', variable=model_var, value='PaperModel')\n",
    "model_select.grid(column=0, row=1)\n",
    "\n",
    "# Scaling factor\n",
    "sf = tk.IntVar()\n",
    "sf.set(1000)\n",
    "tk.Label(frame_params, text='Scaling factor : ').grid(column=0, row=0)\n",
    "tk.Entry(frame_params, textvariable=sf).grid(column=1, row=0)\n",
    "\n",
    "# Buttons\n",
    "tk.Button(frame_buttons, text='start simulation', command=run_model).grid(column=0, row=0)\n",
    "\n",
    "# Start\n",
    "root.mainloop()"
   ]
  }
 ],
 "metadata": {
  "kernelspec": {
   "display_name": "Python 3",
   "language": "python",
   "name": "python3"
  },
  "language_info": {
   "codemirror_mode": {
    "name": "ipython",
    "version": 3
   },
   "file_extension": ".py",
   "mimetype": "text/x-python",
   "name": "python",
   "nbconvert_exporter": "python",
   "pygments_lexer": "ipython3",
   "version": "3.6.3"
  }
 },
 "nbformat": 4,
 "nbformat_minor": 2
}
